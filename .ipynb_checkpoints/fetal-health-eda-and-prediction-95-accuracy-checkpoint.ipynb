{
 "cells": [
  {
   "cell_type": "markdown",
   "id": "947187f0",
   "metadata": {
    "papermill": {
     "duration": 0.048288,
     "end_time": "2021-11-20T17:56:43.145041",
     "exception": false,
     "start_time": "2021-11-20T17:56:43.096753",
     "status": "completed"
    },
    "tags": []
   },
   "source": [
    "# Fetal Health Prediction \n",
    "\n",
    "A normal pregnancy lasts 9 months. Each three months period is called trimester. During this 9 months (and 3 trimesters) the fetus grows and gets ready for birth. However, due to various reasons the growth of fetus stops or disturbed. These various reasons may cause disability or mortality of the newborn. \n",
    "\n",
    "One of the main assessment methods of fetal healt is cardiotocagraphy (CTG) which evaluates fetal heart beat and uterine contractions of mother. CTG monitoring is widely used to assess fetal wellbeing by identifying babies at risk of hypoxia (lack of oxygen). CTG is mainly used during labour.\n",
    "\n",
    "Hearing your babies heart is one of the most beautiful things in the world, which comes after grabing your newborn. Me as a father of 3 months old baby boy, it was anxious thing each time whether it will be normal or not. Therefore, a good prediction model for fetal health will be a stress reliever for parents or parent to be's.\n",
    "\n",
    "In this notebook I will try to build a model to predict whether a fetus is normal, suspicious or problematic with given CTG values.\n",
    "\n",
    "This notebook includes;\n",
    "\n",
    "* Importing Libraries\n",
    "* Loading Data\n",
    "* Exploratory Data Analysis\n",
    "* Machine Learning"
   ]
  },
  {
   "cell_type": "markdown",
   "id": "ba56c2a7",
   "metadata": {
    "papermill": {
     "duration": 0.046402,
     "end_time": "2021-11-20T17:56:43.238291",
     "exception": false,
     "start_time": "2021-11-20T17:56:43.191889",
     "status": "completed"
    },
    "tags": []
   },
   "source": [
    "# Importing Libraries"
   ]
  },
  {
   "cell_type": "code",
   "execution_count": 1,
   "id": "2de10fb6",
   "metadata": {
    "_cell_guid": "b1076dfc-b9ad-4769-8c92-a6c4dae69d19",
    "_uuid": "8f2839f25d086af736a60e9eeb907d3b93b6e0e5",
    "execution": {
     "iopub.execute_input": "2021-11-20T17:56:43.337096Z",
     "iopub.status.busy": "2021-11-20T17:56:43.335942Z",
     "iopub.status.idle": "2021-11-20T17:56:45.871683Z",
     "shell.execute_reply": "2021-11-20T17:56:45.870967Z",
     "shell.execute_reply.started": "2021-11-20T15:21:11.212453Z"
    },
    "papermill": {
     "duration": 2.586302,
     "end_time": "2021-11-20T17:56:45.871884",
     "exception": false,
     "start_time": "2021-11-20T17:56:43.285582",
     "status": "completed"
    },
    "tags": []
   },
   "outputs": [],
   "source": [
    "import numpy as np # linear algebra\n",
    "import pandas as pd # data processing, CSV file I/O (e.g. pd.read_csv)\n",
    "\n",
    "# importing libraries\n",
    "import seaborn as sns\n",
    "import matplotlib.pyplot as plt\n",
    "import plotly.express as xp\n",
    "sns.set()\n",
    "\n",
    "from scipy import stats\n",
    "\n",
    "import warnings\n",
    "warnings.filterwarnings('ignore')\n",
    "\n",
    "import os\n",
    "\n",
    "\n",
    "from sklearn.metrics import accuracy_score\n",
    "\n",
    "#ML algoritms\n",
    "from sklearn.linear_model import LogisticRegression\n",
    "from sklearn.neighbors import KNeighborsClassifier\n",
    "from sklearn.tree import DecisionTreeClassifier\n",
    "from sklearn.svm import SVC\n",
    "from sklearn.ensemble import RandomForestClassifier\n",
    "from sklearn.ensemble import BaggingClassifier\n",
    "from sklearn.ensemble import GradientBoostingClassifier\n",
    "from sklearn.ensemble import AdaBoostClassifier\n",
    "from xgboost import XGBClassifier\n",
    "import xgboost as xgb\n",
    "\n",
    "\n",
    "\n",
    "#Performance metrics\n",
    "from sklearn.metrics import classification_report, confusion_matrix, plot_confusion_matrix"
   ]
  },
  {
   "cell_type": "code",
   "execution_count": 2,
   "id": "62295086",
   "metadata": {
    "execution": {
     "iopub.execute_input": "2021-11-20T17:56:45.972086Z",
     "iopub.status.busy": "2021-11-20T17:56:45.971441Z",
     "iopub.status.idle": "2021-11-20T17:56:45.986870Z",
     "shell.execute_reply": "2021-11-20T17:56:45.986255Z",
     "shell.execute_reply.started": "2021-11-20T15:21:11.226339Z"
    },
    "papermill": {
     "duration": 0.067796,
     "end_time": "2021-11-20T17:56:45.987027",
     "exception": false,
     "start_time": "2021-11-20T17:56:45.919231",
     "status": "completed"
    },
    "tags": []
   },
   "outputs": [],
   "source": [
    "for dirname, _, filenames in os.walk('/kaggle/input'):\n",
    "    for filename in filenames:\n",
    "        print(os.path.join(dirname, filename))"
   ]
  },
  {
   "cell_type": "markdown",
   "id": "bd5535db",
   "metadata": {
    "papermill": {
     "duration": 0.049445,
     "end_time": "2021-11-20T17:56:46.088270",
     "exception": false,
     "start_time": "2021-11-20T17:56:46.038825",
     "status": "completed"
    },
    "tags": []
   },
   "source": [
    "# Loading Data"
   ]
  },
  {
   "cell_type": "code",
   "execution_count": 3,
   "id": "6eb0cee3",
   "metadata": {
    "execution": {
     "iopub.execute_input": "2021-11-20T17:56:46.244102Z",
     "iopub.status.busy": "2021-11-20T17:56:46.243131Z",
     "iopub.status.idle": "2021-11-20T17:56:46.290088Z",
     "shell.execute_reply": "2021-11-20T17:56:46.290562Z",
     "shell.execute_reply.started": "2021-11-20T15:21:11.244407Z"
    },
    "papermill": {
     "duration": 0.097764,
     "end_time": "2021-11-20T17:56:46.290739",
     "exception": false,
     "start_time": "2021-11-20T17:56:46.192975",
     "status": "completed"
    },
    "tags": []
   },
   "outputs": [],
   "source": [
    "df = pd.read_csv('./fetal_health.csv')"
   ]
  },
  {
   "cell_type": "markdown",
   "id": "30d0aca3",
   "metadata": {
    "papermill": {
     "duration": 0.046639,
     "end_time": "2021-11-20T17:56:46.384771",
     "exception": false,
     "start_time": "2021-11-20T17:56:46.338132",
     "status": "completed"
    },
    "tags": []
   },
   "source": [
    "### Information About Data\n",
    "\n",
    "This dataset contains 2126 records of features extracted from Cardiotocogram exams, which were then classified by expert obstetrician into 3 classes:\n",
    "\n",
    "1. Normal\n",
    "1. Suspect\n",
    "1. Pathological\n",
    "\n",
    "**Features**\n",
    "\n",
    "Data has 21 features. Each feature is gathered from CTG scans. Further information about the data features https://www.ncbi.nlm.nih.gov/pmc/articles/PMC6822315/\n",
    "\n",
    "**Target**\n",
    "\n",
    "'fetal_health' Tagged as 1 (Normal), 2 (Suspect) and 3 (Pathological)"
   ]
  },
  {
   "cell_type": "markdown",
   "id": "6ec1bdd0",
   "metadata": {
    "papermill": {
     "duration": 0.046955,
     "end_time": "2021-11-20T17:56:46.479281",
     "exception": false,
     "start_time": "2021-11-20T17:56:46.432326",
     "status": "completed"
    },
    "tags": []
   },
   "source": [
    "# Exploratory Data Analysis"
   ]
  },
  {
   "cell_type": "code",
   "execution_count": 4,
   "id": "be14cad4",
   "metadata": {
    "execution": {
     "iopub.execute_input": "2021-11-20T17:56:46.577366Z",
     "iopub.status.busy": "2021-11-20T17:56:46.576432Z",
     "iopub.status.idle": "2021-11-20T17:56:46.599478Z",
     "shell.execute_reply": "2021-11-20T17:56:46.600044Z",
     "shell.execute_reply.started": "2021-11-20T15:21:11.273648Z"
    },
    "papermill": {
     "duration": 0.074074,
     "end_time": "2021-11-20T17:56:46.600211",
     "exception": false,
     "start_time": "2021-11-20T17:56:46.526137",
     "status": "completed"
    },
    "tags": []
   },
   "outputs": [
    {
     "name": "stdout",
     "output_type": "stream",
     "text": [
      "<class 'pandas.core.frame.DataFrame'>\n",
      "RangeIndex: 2126 entries, 0 to 2125\n",
      "Data columns (total 22 columns):\n",
      " #   Column                                                  Non-Null Count  Dtype  \n",
      "---  ------                                                  --------------  -----  \n",
      " 0   baseline value                                          2126 non-null   float64\n",
      " 1   accelerations                                           2126 non-null   float64\n",
      " 2   fetal_movement                                          2126 non-null   float64\n",
      " 3   uterine_contractions                                    2126 non-null   float64\n",
      " 4   light_decelerations                                     2126 non-null   float64\n",
      " 5   severe_decelerations                                    2126 non-null   float64\n",
      " 6   prolongued_decelerations                                2126 non-null   float64\n",
      " 7   abnormal_short_term_variability                         2126 non-null   float64\n",
      " 8   mean_value_of_short_term_variability                    2126 non-null   float64\n",
      " 9   percentage_of_time_with_abnormal_long_term_variability  2126 non-null   float64\n",
      " 10  mean_value_of_long_term_variability                     2126 non-null   float64\n",
      " 11  histogram_width                                         2126 non-null   float64\n",
      " 12  histogram_min                                           2126 non-null   float64\n",
      " 13  histogram_max                                           2126 non-null   float64\n",
      " 14  histogram_number_of_peaks                               2126 non-null   float64\n",
      " 15  histogram_number_of_zeroes                              2126 non-null   float64\n",
      " 16  histogram_mode                                          2126 non-null   float64\n",
      " 17  histogram_mean                                          2126 non-null   float64\n",
      " 18  histogram_median                                        2126 non-null   float64\n",
      " 19  histogram_variance                                      2126 non-null   float64\n",
      " 20  histogram_tendency                                      2126 non-null   float64\n",
      " 21  fetal_health                                            2126 non-null   float64\n",
      "dtypes: float64(22)\n",
      "memory usage: 365.5 KB\n"
     ]
    }
   ],
   "source": [
    "df.info()"
   ]
  },
  {
   "cell_type": "code",
   "execution_count": 5,
   "id": "008061c3",
   "metadata": {
    "execution": {
     "iopub.execute_input": "2021-11-20T17:56:46.698819Z",
     "iopub.status.busy": "2021-11-20T17:56:46.697896Z",
     "iopub.status.idle": "2021-11-20T17:56:46.769877Z",
     "shell.execute_reply": "2021-11-20T17:56:46.770360Z",
     "shell.execute_reply.started": "2021-11-20T15:21:11.290126Z"
    },
    "papermill": {
     "duration": 0.122907,
     "end_time": "2021-11-20T17:56:46.770520",
     "exception": false,
     "start_time": "2021-11-20T17:56:46.647613",
     "status": "completed"
    },
    "tags": []
   },
   "outputs": [
    {
     "data": {
      "text/html": [
       "<div>\n",
       "<style scoped>\n",
       "    .dataframe tbody tr th:only-of-type {\n",
       "        vertical-align: middle;\n",
       "    }\n",
       "\n",
       "    .dataframe tbody tr th {\n",
       "        vertical-align: top;\n",
       "    }\n",
       "\n",
       "    .dataframe thead th {\n",
       "        text-align: right;\n",
       "    }\n",
       "</style>\n",
       "<table border=\"1\" class=\"dataframe\">\n",
       "  <thead>\n",
       "    <tr style=\"text-align: right;\">\n",
       "      <th></th>\n",
       "      <th>count</th>\n",
       "      <th>mean</th>\n",
       "      <th>std</th>\n",
       "      <th>min</th>\n",
       "      <th>25%</th>\n",
       "      <th>50%</th>\n",
       "      <th>75%</th>\n",
       "      <th>max</th>\n",
       "    </tr>\n",
       "  </thead>\n",
       "  <tbody>\n",
       "    <tr>\n",
       "      <th>baseline value</th>\n",
       "      <td>2126.0</td>\n",
       "      <td>133.303857</td>\n",
       "      <td>9.840844</td>\n",
       "      <td>106.0</td>\n",
       "      <td>126.000</td>\n",
       "      <td>133.000</td>\n",
       "      <td>140.000</td>\n",
       "      <td>160.000</td>\n",
       "    </tr>\n",
       "    <tr>\n",
       "      <th>accelerations</th>\n",
       "      <td>2126.0</td>\n",
       "      <td>0.003178</td>\n",
       "      <td>0.003866</td>\n",
       "      <td>0.0</td>\n",
       "      <td>0.000</td>\n",
       "      <td>0.002</td>\n",
       "      <td>0.006</td>\n",
       "      <td>0.019</td>\n",
       "    </tr>\n",
       "    <tr>\n",
       "      <th>fetal_movement</th>\n",
       "      <td>2126.0</td>\n",
       "      <td>0.009481</td>\n",
       "      <td>0.046666</td>\n",
       "      <td>0.0</td>\n",
       "      <td>0.000</td>\n",
       "      <td>0.000</td>\n",
       "      <td>0.003</td>\n",
       "      <td>0.481</td>\n",
       "    </tr>\n",
       "    <tr>\n",
       "      <th>uterine_contractions</th>\n",
       "      <td>2126.0</td>\n",
       "      <td>0.004366</td>\n",
       "      <td>0.002946</td>\n",
       "      <td>0.0</td>\n",
       "      <td>0.002</td>\n",
       "      <td>0.004</td>\n",
       "      <td>0.007</td>\n",
       "      <td>0.015</td>\n",
       "    </tr>\n",
       "    <tr>\n",
       "      <th>light_decelerations</th>\n",
       "      <td>2126.0</td>\n",
       "      <td>0.001889</td>\n",
       "      <td>0.002960</td>\n",
       "      <td>0.0</td>\n",
       "      <td>0.000</td>\n",
       "      <td>0.000</td>\n",
       "      <td>0.003</td>\n",
       "      <td>0.015</td>\n",
       "    </tr>\n",
       "    <tr>\n",
       "      <th>severe_decelerations</th>\n",
       "      <td>2126.0</td>\n",
       "      <td>0.000003</td>\n",
       "      <td>0.000057</td>\n",
       "      <td>0.0</td>\n",
       "      <td>0.000</td>\n",
       "      <td>0.000</td>\n",
       "      <td>0.000</td>\n",
       "      <td>0.001</td>\n",
       "    </tr>\n",
       "    <tr>\n",
       "      <th>prolongued_decelerations</th>\n",
       "      <td>2126.0</td>\n",
       "      <td>0.000159</td>\n",
       "      <td>0.000590</td>\n",
       "      <td>0.0</td>\n",
       "      <td>0.000</td>\n",
       "      <td>0.000</td>\n",
       "      <td>0.000</td>\n",
       "      <td>0.005</td>\n",
       "    </tr>\n",
       "    <tr>\n",
       "      <th>abnormal_short_term_variability</th>\n",
       "      <td>2126.0</td>\n",
       "      <td>46.990122</td>\n",
       "      <td>17.192814</td>\n",
       "      <td>12.0</td>\n",
       "      <td>32.000</td>\n",
       "      <td>49.000</td>\n",
       "      <td>61.000</td>\n",
       "      <td>87.000</td>\n",
       "    </tr>\n",
       "    <tr>\n",
       "      <th>mean_value_of_short_term_variability</th>\n",
       "      <td>2126.0</td>\n",
       "      <td>1.332785</td>\n",
       "      <td>0.883241</td>\n",
       "      <td>0.2</td>\n",
       "      <td>0.700</td>\n",
       "      <td>1.200</td>\n",
       "      <td>1.700</td>\n",
       "      <td>7.000</td>\n",
       "    </tr>\n",
       "    <tr>\n",
       "      <th>percentage_of_time_with_abnormal_long_term_variability</th>\n",
       "      <td>2126.0</td>\n",
       "      <td>9.846660</td>\n",
       "      <td>18.396880</td>\n",
       "      <td>0.0</td>\n",
       "      <td>0.000</td>\n",
       "      <td>0.000</td>\n",
       "      <td>11.000</td>\n",
       "      <td>91.000</td>\n",
       "    </tr>\n",
       "    <tr>\n",
       "      <th>mean_value_of_long_term_variability</th>\n",
       "      <td>2126.0</td>\n",
       "      <td>8.187629</td>\n",
       "      <td>5.628247</td>\n",
       "      <td>0.0</td>\n",
       "      <td>4.600</td>\n",
       "      <td>7.400</td>\n",
       "      <td>10.800</td>\n",
       "      <td>50.700</td>\n",
       "    </tr>\n",
       "    <tr>\n",
       "      <th>histogram_width</th>\n",
       "      <td>2126.0</td>\n",
       "      <td>70.445908</td>\n",
       "      <td>38.955693</td>\n",
       "      <td>3.0</td>\n",
       "      <td>37.000</td>\n",
       "      <td>67.500</td>\n",
       "      <td>100.000</td>\n",
       "      <td>180.000</td>\n",
       "    </tr>\n",
       "    <tr>\n",
       "      <th>histogram_min</th>\n",
       "      <td>2126.0</td>\n",
       "      <td>93.579492</td>\n",
       "      <td>29.560212</td>\n",
       "      <td>50.0</td>\n",
       "      <td>67.000</td>\n",
       "      <td>93.000</td>\n",
       "      <td>120.000</td>\n",
       "      <td>159.000</td>\n",
       "    </tr>\n",
       "    <tr>\n",
       "      <th>histogram_max</th>\n",
       "      <td>2126.0</td>\n",
       "      <td>164.025400</td>\n",
       "      <td>17.944183</td>\n",
       "      <td>122.0</td>\n",
       "      <td>152.000</td>\n",
       "      <td>162.000</td>\n",
       "      <td>174.000</td>\n",
       "      <td>238.000</td>\n",
       "    </tr>\n",
       "    <tr>\n",
       "      <th>histogram_number_of_peaks</th>\n",
       "      <td>2126.0</td>\n",
       "      <td>4.068203</td>\n",
       "      <td>2.949386</td>\n",
       "      <td>0.0</td>\n",
       "      <td>2.000</td>\n",
       "      <td>3.000</td>\n",
       "      <td>6.000</td>\n",
       "      <td>18.000</td>\n",
       "    </tr>\n",
       "    <tr>\n",
       "      <th>histogram_number_of_zeroes</th>\n",
       "      <td>2126.0</td>\n",
       "      <td>0.323612</td>\n",
       "      <td>0.706059</td>\n",
       "      <td>0.0</td>\n",
       "      <td>0.000</td>\n",
       "      <td>0.000</td>\n",
       "      <td>0.000</td>\n",
       "      <td>10.000</td>\n",
       "    </tr>\n",
       "    <tr>\n",
       "      <th>histogram_mode</th>\n",
       "      <td>2126.0</td>\n",
       "      <td>137.452023</td>\n",
       "      <td>16.381289</td>\n",
       "      <td>60.0</td>\n",
       "      <td>129.000</td>\n",
       "      <td>139.000</td>\n",
       "      <td>148.000</td>\n",
       "      <td>187.000</td>\n",
       "    </tr>\n",
       "    <tr>\n",
       "      <th>histogram_mean</th>\n",
       "      <td>2126.0</td>\n",
       "      <td>134.610536</td>\n",
       "      <td>15.593596</td>\n",
       "      <td>73.0</td>\n",
       "      <td>125.000</td>\n",
       "      <td>136.000</td>\n",
       "      <td>145.000</td>\n",
       "      <td>182.000</td>\n",
       "    </tr>\n",
       "    <tr>\n",
       "      <th>histogram_median</th>\n",
       "      <td>2126.0</td>\n",
       "      <td>138.090310</td>\n",
       "      <td>14.466589</td>\n",
       "      <td>77.0</td>\n",
       "      <td>129.000</td>\n",
       "      <td>139.000</td>\n",
       "      <td>148.000</td>\n",
       "      <td>186.000</td>\n",
       "    </tr>\n",
       "    <tr>\n",
       "      <th>histogram_variance</th>\n",
       "      <td>2126.0</td>\n",
       "      <td>18.808090</td>\n",
       "      <td>28.977636</td>\n",
       "      <td>0.0</td>\n",
       "      <td>2.000</td>\n",
       "      <td>7.000</td>\n",
       "      <td>24.000</td>\n",
       "      <td>269.000</td>\n",
       "    </tr>\n",
       "    <tr>\n",
       "      <th>histogram_tendency</th>\n",
       "      <td>2126.0</td>\n",
       "      <td>0.320320</td>\n",
       "      <td>0.610829</td>\n",
       "      <td>-1.0</td>\n",
       "      <td>0.000</td>\n",
       "      <td>0.000</td>\n",
       "      <td>1.000</td>\n",
       "      <td>1.000</td>\n",
       "    </tr>\n",
       "    <tr>\n",
       "      <th>fetal_health</th>\n",
       "      <td>2126.0</td>\n",
       "      <td>1.304327</td>\n",
       "      <td>0.614377</td>\n",
       "      <td>1.0</td>\n",
       "      <td>1.000</td>\n",
       "      <td>1.000</td>\n",
       "      <td>1.000</td>\n",
       "      <td>3.000</td>\n",
       "    </tr>\n",
       "  </tbody>\n",
       "</table>\n",
       "</div>"
      ],
      "text/plain": [
       "                                                     count        mean  \\\n",
       "baseline value                                      2126.0  133.303857   \n",
       "accelerations                                       2126.0    0.003178   \n",
       "fetal_movement                                      2126.0    0.009481   \n",
       "uterine_contractions                                2126.0    0.004366   \n",
       "light_decelerations                                 2126.0    0.001889   \n",
       "severe_decelerations                                2126.0    0.000003   \n",
       "prolongued_decelerations                            2126.0    0.000159   \n",
       "abnormal_short_term_variability                     2126.0   46.990122   \n",
       "mean_value_of_short_term_variability                2126.0    1.332785   \n",
       "percentage_of_time_with_abnormal_long_term_vari...  2126.0    9.846660   \n",
       "mean_value_of_long_term_variability                 2126.0    8.187629   \n",
       "histogram_width                                     2126.0   70.445908   \n",
       "histogram_min                                       2126.0   93.579492   \n",
       "histogram_max                                       2126.0  164.025400   \n",
       "histogram_number_of_peaks                           2126.0    4.068203   \n",
       "histogram_number_of_zeroes                          2126.0    0.323612   \n",
       "histogram_mode                                      2126.0  137.452023   \n",
       "histogram_mean                                      2126.0  134.610536   \n",
       "histogram_median                                    2126.0  138.090310   \n",
       "histogram_variance                                  2126.0   18.808090   \n",
       "histogram_tendency                                  2126.0    0.320320   \n",
       "fetal_health                                        2126.0    1.304327   \n",
       "\n",
       "                                                          std    min      25%  \\\n",
       "baseline value                                       9.840844  106.0  126.000   \n",
       "accelerations                                        0.003866    0.0    0.000   \n",
       "fetal_movement                                       0.046666    0.0    0.000   \n",
       "uterine_contractions                                 0.002946    0.0    0.002   \n",
       "light_decelerations                                  0.002960    0.0    0.000   \n",
       "severe_decelerations                                 0.000057    0.0    0.000   \n",
       "prolongued_decelerations                             0.000590    0.0    0.000   \n",
       "abnormal_short_term_variability                     17.192814   12.0   32.000   \n",
       "mean_value_of_short_term_variability                 0.883241    0.2    0.700   \n",
       "percentage_of_time_with_abnormal_long_term_vari...  18.396880    0.0    0.000   \n",
       "mean_value_of_long_term_variability                  5.628247    0.0    4.600   \n",
       "histogram_width                                     38.955693    3.0   37.000   \n",
       "histogram_min                                       29.560212   50.0   67.000   \n",
       "histogram_max                                       17.944183  122.0  152.000   \n",
       "histogram_number_of_peaks                            2.949386    0.0    2.000   \n",
       "histogram_number_of_zeroes                           0.706059    0.0    0.000   \n",
       "histogram_mode                                      16.381289   60.0  129.000   \n",
       "histogram_mean                                      15.593596   73.0  125.000   \n",
       "histogram_median                                    14.466589   77.0  129.000   \n",
       "histogram_variance                                  28.977636    0.0    2.000   \n",
       "histogram_tendency                                   0.610829   -1.0    0.000   \n",
       "fetal_health                                         0.614377    1.0    1.000   \n",
       "\n",
       "                                                        50%      75%      max  \n",
       "baseline value                                      133.000  140.000  160.000  \n",
       "accelerations                                         0.002    0.006    0.019  \n",
       "fetal_movement                                        0.000    0.003    0.481  \n",
       "uterine_contractions                                  0.004    0.007    0.015  \n",
       "light_decelerations                                   0.000    0.003    0.015  \n",
       "severe_decelerations                                  0.000    0.000    0.001  \n",
       "prolongued_decelerations                              0.000    0.000    0.005  \n",
       "abnormal_short_term_variability                      49.000   61.000   87.000  \n",
       "mean_value_of_short_term_variability                  1.200    1.700    7.000  \n",
       "percentage_of_time_with_abnormal_long_term_vari...    0.000   11.000   91.000  \n",
       "mean_value_of_long_term_variability                   7.400   10.800   50.700  \n",
       "histogram_width                                      67.500  100.000  180.000  \n",
       "histogram_min                                        93.000  120.000  159.000  \n",
       "histogram_max                                       162.000  174.000  238.000  \n",
       "histogram_number_of_peaks                             3.000    6.000   18.000  \n",
       "histogram_number_of_zeroes                            0.000    0.000   10.000  \n",
       "histogram_mode                                      139.000  148.000  187.000  \n",
       "histogram_mean                                      136.000  145.000  182.000  \n",
       "histogram_median                                    139.000  148.000  186.000  \n",
       "histogram_variance                                    7.000   24.000  269.000  \n",
       "histogram_tendency                                    0.000    1.000    1.000  \n",
       "fetal_health                                          1.000    1.000    3.000  "
      ]
     },
     "execution_count": 5,
     "metadata": {},
     "output_type": "execute_result"
    }
   ],
   "source": [
    "df.describe().T"
   ]
  },
  {
   "cell_type": "markdown",
   "id": "cf63ef86",
   "metadata": {
    "papermill": {
     "duration": 0.047983,
     "end_time": "2021-11-20T17:56:46.867202",
     "exception": false,
     "start_time": "2021-11-20T17:56:46.819219",
     "status": "completed"
    },
    "tags": []
   },
   "source": [
    "#### Observations\n",
    "\n",
    "The data has 2126 rows, and 21 columns. Has no missings. Columns including information about Histograms seems a bit problem; the distance between min, 25% and 50% is not so close. I might say they have non-normal distributions. "
   ]
  },
  {
   "cell_type": "markdown",
   "id": "35e12ce2",
   "metadata": {
    "papermill": {
     "duration": 0.049612,
     "end_time": "2021-11-20T17:56:46.965355",
     "exception": false,
     "start_time": "2021-11-20T17:56:46.915743",
     "status": "completed"
    },
    "tags": []
   },
   "source": [
    "### Target Variable : Fetal_Health\n",
    "\n",
    "Let's investigate the target variable first. How it is distributed, is there any class imbalance?\n",
    "\n",
    "Best way to see these, in my humble opinion is to plot them. "
   ]
  },
  {
   "cell_type": "code",
   "execution_count": 6,
   "id": "bd262db2",
   "metadata": {
    "execution": {
     "iopub.execute_input": "2021-11-20T17:56:47.066086Z",
     "iopub.status.busy": "2021-11-20T17:56:47.065136Z",
     "iopub.status.idle": "2021-11-20T17:56:47.350728Z",
     "shell.execute_reply": "2021-11-20T17:56:47.351236Z",
     "shell.execute_reply.started": "2021-11-20T15:21:11.362705Z"
    },
    "papermill": {
     "duration": 0.337803,
     "end_time": "2021-11-20T17:56:47.351412",
     "exception": false,
     "start_time": "2021-11-20T17:56:47.013609",
     "status": "completed"
    },
    "tags": []
   },
   "outputs": [
    {
     "ename": "ValueError",
     "evalue": "The number of FixedLocator locations (1), usually from a call to set_ticks, does not match the number of ticklabels (3).",
     "output_type": "error",
     "traceback": [
      "\u001b[1;31m---------------------------------------------------------------------------\u001b[0m",
      "\u001b[1;31mValueError\u001b[0m                                Traceback (most recent call last)",
      "Input \u001b[1;32mIn [6]\u001b[0m, in \u001b[0;36m<cell line: 8>\u001b[1;34m()\u001b[0m\n\u001b[0;32m      6\u001b[0m _ \u001b[38;5;241m=\u001b[39m sns\u001b[38;5;241m.\u001b[39mcountplot(df\u001b[38;5;241m.\u001b[39mfetal_health)\n\u001b[0;32m      7\u001b[0m _ \u001b[38;5;241m=\u001b[39m ax\u001b[38;5;241m.\u001b[39mset_xlabel(\u001b[38;5;124m'\u001b[39m\u001b[38;5;124mFetal Health\u001b[39m\u001b[38;5;124m'\u001b[39m)\n\u001b[1;32m----> 8\u001b[0m _ \u001b[38;5;241m=\u001b[39m \u001b[43max\u001b[49m\u001b[38;5;241;43m.\u001b[39;49m\u001b[43mset_xticklabels\u001b[49m\u001b[43m(\u001b[49m\u001b[43mlabels\u001b[49m\u001b[43m)\u001b[49m\n\u001b[0;32m      9\u001b[0m _ \u001b[38;5;241m=\u001b[39m plt\u001b[38;5;241m.\u001b[39mtitle(\u001b[38;5;124m'\u001b[39m\u001b[38;5;124mDistribution of Fetal Health Conditions\u001b[39m\u001b[38;5;124m'\u001b[39m)\n\u001b[0;32m     10\u001b[0m _ \u001b[38;5;241m=\u001b[39m plt\u001b[38;5;241m.\u001b[39mtext(s \u001b[38;5;241m=\u001b[39m \u001b[38;5;124mf\u001b[39m\u001b[38;5;124m\"\u001b[39m\u001b[38;5;124mn = \u001b[39m\u001b[38;5;132;01m{\u001b[39;00mdf\u001b[38;5;241m.\u001b[39mfetal_health\u001b[38;5;241m.\u001b[39mvalue_counts()[\u001b[38;5;241m1\u001b[39m]\u001b[38;5;132;01m}\u001b[39;00m\u001b[38;5;124m\"\u001b[39m, x \u001b[38;5;241m=\u001b[39m \u001b[38;5;241m-\u001b[39m\u001b[38;5;241m0.25\u001b[39m, y \u001b[38;5;241m=\u001b[39m \u001b[38;5;241m800\u001b[39m)\n",
      "File \u001b[1;32m~\\AppData\\Roaming\\Python\\Python39\\site-packages\\matplotlib\\axes\\_base.py:73\u001b[0m, in \u001b[0;36m_axis_method_wrapper.__set_name__.<locals>.wrapper\u001b[1;34m(self, *args, **kwargs)\u001b[0m\n\u001b[0;32m     72\u001b[0m \u001b[38;5;28;01mdef\u001b[39;00m \u001b[38;5;21mwrapper\u001b[39m(\u001b[38;5;28mself\u001b[39m, \u001b[38;5;241m*\u001b[39margs, \u001b[38;5;241m*\u001b[39m\u001b[38;5;241m*\u001b[39mkwargs):\n\u001b[1;32m---> 73\u001b[0m     \u001b[38;5;28;01mreturn\u001b[39;00m get_method(\u001b[38;5;28mself\u001b[39m)(\u001b[38;5;241m*\u001b[39margs, \u001b[38;5;241m*\u001b[39m\u001b[38;5;241m*\u001b[39mkwargs)\n",
      "File \u001b[1;32m~\\AppData\\Roaming\\Python\\Python39\\site-packages\\matplotlib\\axis.py:1968\u001b[0m, in \u001b[0;36mAxis._set_ticklabels\u001b[1;34m(self, labels, fontdict, minor, **kwargs)\u001b[0m\n\u001b[0;32m   1966\u001b[0m \u001b[38;5;28;01mif\u001b[39;00m fontdict \u001b[38;5;129;01mis\u001b[39;00m \u001b[38;5;129;01mnot\u001b[39;00m \u001b[38;5;28;01mNone\u001b[39;00m:\n\u001b[0;32m   1967\u001b[0m     kwargs\u001b[38;5;241m.\u001b[39mupdate(fontdict)\n\u001b[1;32m-> 1968\u001b[0m \u001b[38;5;28;01mreturn\u001b[39;00m \u001b[38;5;28mself\u001b[39m\u001b[38;5;241m.\u001b[39mset_ticklabels(labels, minor\u001b[38;5;241m=\u001b[39mminor, \u001b[38;5;241m*\u001b[39m\u001b[38;5;241m*\u001b[39mkwargs)\n",
      "File \u001b[1;32m~\\AppData\\Roaming\\Python\\Python39\\site-packages\\matplotlib\\axis.py:1890\u001b[0m, in \u001b[0;36mAxis.set_ticklabels\u001b[1;34m(self, ticklabels, minor, **kwargs)\u001b[0m\n\u001b[0;32m   1886\u001b[0m \u001b[38;5;28;01mif\u001b[39;00m \u001b[38;5;28misinstance\u001b[39m(locator, mticker\u001b[38;5;241m.\u001b[39mFixedLocator):\n\u001b[0;32m   1887\u001b[0m     \u001b[38;5;66;03m# Passing [] as a list of ticklabels is often used as a way to\u001b[39;00m\n\u001b[0;32m   1888\u001b[0m     \u001b[38;5;66;03m# remove all tick labels, so only error for > 0 ticklabels\u001b[39;00m\n\u001b[0;32m   1889\u001b[0m     \u001b[38;5;28;01mif\u001b[39;00m \u001b[38;5;28mlen\u001b[39m(locator\u001b[38;5;241m.\u001b[39mlocs) \u001b[38;5;241m!=\u001b[39m \u001b[38;5;28mlen\u001b[39m(ticklabels) \u001b[38;5;129;01mand\u001b[39;00m \u001b[38;5;28mlen\u001b[39m(ticklabels) \u001b[38;5;241m!=\u001b[39m \u001b[38;5;241m0\u001b[39m:\n\u001b[1;32m-> 1890\u001b[0m         \u001b[38;5;28;01mraise\u001b[39;00m \u001b[38;5;167;01mValueError\u001b[39;00m(\n\u001b[0;32m   1891\u001b[0m             \u001b[38;5;124m\"\u001b[39m\u001b[38;5;124mThe number of FixedLocator locations\u001b[39m\u001b[38;5;124m\"\u001b[39m\n\u001b[0;32m   1892\u001b[0m             \u001b[38;5;124mf\u001b[39m\u001b[38;5;124m\"\u001b[39m\u001b[38;5;124m (\u001b[39m\u001b[38;5;132;01m{\u001b[39;00m\u001b[38;5;28mlen\u001b[39m(locator\u001b[38;5;241m.\u001b[39mlocs)\u001b[38;5;132;01m}\u001b[39;00m\u001b[38;5;124m), usually from a call to\u001b[39m\u001b[38;5;124m\"\u001b[39m\n\u001b[0;32m   1893\u001b[0m             \u001b[38;5;124m\"\u001b[39m\u001b[38;5;124m set_ticks, does not match\u001b[39m\u001b[38;5;124m\"\u001b[39m\n\u001b[0;32m   1894\u001b[0m             \u001b[38;5;124mf\u001b[39m\u001b[38;5;124m\"\u001b[39m\u001b[38;5;124m the number of ticklabels (\u001b[39m\u001b[38;5;132;01m{\u001b[39;00m\u001b[38;5;28mlen\u001b[39m(ticklabels)\u001b[38;5;132;01m}\u001b[39;00m\u001b[38;5;124m).\u001b[39m\u001b[38;5;124m\"\u001b[39m)\n\u001b[0;32m   1895\u001b[0m     tickd \u001b[38;5;241m=\u001b[39m {loc: lab \u001b[38;5;28;01mfor\u001b[39;00m loc, lab \u001b[38;5;129;01min\u001b[39;00m \u001b[38;5;28mzip\u001b[39m(locator\u001b[38;5;241m.\u001b[39mlocs, ticklabels)}\n\u001b[0;32m   1896\u001b[0m     func \u001b[38;5;241m=\u001b[39m functools\u001b[38;5;241m.\u001b[39mpartial(\u001b[38;5;28mself\u001b[39m\u001b[38;5;241m.\u001b[39m_format_with_dict, tickd)\n",
      "\u001b[1;31mValueError\u001b[0m: The number of FixedLocator locations (1), usually from a call to set_ticks, does not match the number of ticklabels (3)."
     ]
    },
    {
     "data": {
      "image/png": "[encoded data removed]",
      "text/plain": [
       "<Figure size 864x432 with 1 Axes>"
      ]
     },
     "metadata": {
      "needs_background": "light"
     },
     "output_type": "display_data"
    }
   ],
   "source": [
    "# Plot fetal health with box plots, and present actual counts on each box. \n",
    "labels = ['normal',\n",
    "         'suspect',\n",
    "         'pathological']\n",
    "fig, ax = plt.subplots(figsize=(12,6))\n",
    "_ = sns.countplot(df.fetal_health)\n",
    "_ = ax.set_xlabel('Fetal Health')\n",
    "_ = ax.set_xticklabels(labels)\n",
    "_ = plt.title('Distribution of Fetal Health Conditions')\n",
    "_ = plt.text(s = f\"n = {df.fetal_health.value_counts()[1]}\", x = -0.25, y = 800)\n",
    "_ = plt.text(s = f\"n = {df.fetal_health.value_counts()[2]}\", x = 1, y = 800)\n",
    "_ = plt.text(s = f\"n = {df.fetal_health.value_counts()[3]}\", x = 2, y = 800)\n",
    "\n"
   ]
  },
  {
   "cell_type": "markdown",
   "id": "4f5524c2",
   "metadata": {
    "papermill": {
     "duration": 0.049016,
     "end_time": "2021-11-20T17:56:47.450022",
     "exception": false,
     "start_time": "2021-11-20T17:56:47.401006",
     "status": "completed"
    },
    "tags": []
   },
   "source": [
    "#### Interpretation\n",
    "\n",
    "The distribution of the target variable is like real world; not all births are unhealthy or resulted with death of the newborn.  According to worldbank data, the mortality rate in 2019 28.2 per 1000 births. So we could expect a distribution like this one. However due to machine learning purposes, this is not good. I will work on this after finishing EDA."
   ]
  },
  {
   "cell_type": "markdown",
   "id": "ecb45e97",
   "metadata": {
    "papermill": {
     "duration": 0.049236,
     "end_time": "2021-11-20T17:56:47.548440",
     "exception": false,
     "start_time": "2021-11-20T17:56:47.499204",
     "status": "completed"
    },
    "tags": []
   },
   "source": [
    "## Visuals"
   ]
  },
  {
   "cell_type": "markdown",
   "id": "c3c7cd34",
   "metadata": {
    "papermill": {
     "duration": 0.049065,
     "end_time": "2021-11-20T17:56:47.647554",
     "exception": false,
     "start_time": "2021-11-20T17:56:47.598489",
     "status": "completed"
    },
    "tags": []
   },
   "source": [
    "There are 20 features which might affect fetal health. Before investigating all of them (plotting every 20 of them with histograms might be over-plotting) First let's investigate heatmap."
   ]
  },
  {
   "cell_type": "code",
   "execution_count": null,
   "id": "0160d262",
   "metadata": {
    "execution": {
     "iopub.execute_input": "2021-11-20T17:56:47.750142Z",
     "iopub.status.busy": "2021-11-20T17:56:47.749129Z",
     "iopub.status.idle": "2021-11-20T17:56:51.192710Z",
     "shell.execute_reply": "2021-11-20T17:56:51.193223Z",
     "shell.execute_reply.started": "2021-11-20T15:21:11.629134Z"
    },
    "papermill": {
     "duration": 3.4964,
     "end_time": "2021-11-20T17:56:51.193388",
     "exception": false,
     "start_time": "2021-11-20T17:56:47.696988",
     "status": "completed"
    },
    "tags": []
   },
   "outputs": [],
   "source": [
    "plt.figure(figsize=(20,20))\n",
    "corr = df.corr()\n",
    "cmap = sns.color_palette(\"light:b\", as_cmap=True)\n",
    "sns.heatmap(corr, annot=True, cmap=cmap)"
   ]
  },
  {
   "cell_type": "markdown",
   "id": "ee3acbf8",
   "metadata": {
    "papermill": {
     "duration": 0.059817,
     "end_time": "2021-11-20T17:56:51.312869",
     "exception": false,
     "start_time": "2021-11-20T17:56:51.253052",
     "status": "completed"
    },
    "tags": []
   },
   "source": [
    "According to heatmap; accelerations, prolonged decelerations,  abnormal short term variability, percentage of abnormal long term variability have effects on fetal health. It's better to investigate these. Also, histogram median, mode and mean has high correlations in between. I need to choose one of them for my prediction. I will later investigate VIF scores of features.\n"
   ]
  },
  {
   "cell_type": "code",
   "execution_count": null,
   "id": "9d9dfae6",
   "metadata": {
    "execution": {
     "iopub.execute_input": "2021-11-20T17:56:51.439520Z",
     "iopub.status.busy": "2021-11-20T17:56:51.438523Z",
     "iopub.status.idle": "2021-11-20T17:56:51.447822Z",
     "shell.execute_reply": "2021-11-20T17:56:51.448451Z",
     "shell.execute_reply.started": "2021-11-20T15:21:15.035715Z"
    },
    "papermill": {
     "duration": 0.075734,
     "end_time": "2021-11-20T17:56:51.448617",
     "exception": false,
     "start_time": "2021-11-20T17:56:51.372883",
     "status": "completed"
    },
    "tags": []
   },
   "outputs": [],
   "source": [
    "def getall_visuals(data,column,xlabel, bins = 50):\n",
    "    \"\"\" This function plots histograms for 3 different fetal health classes\n",
    "    and one for all data. \n",
    "    \n",
    "    Column name should be str.\n",
    "    \"\"\"\n",
    "    fig = plt.figure(figsize=(12, 10))\n",
    "\n",
    "    plt.subplots_adjust(wspace= 0.25, hspace= 0.25)\n",
    "\n",
    "    sub1 = fig.add_subplot(2,3,1) # two rows, two columns, fist cell\n",
    "\n",
    "\n",
    "    # Create second axes, the top-left plot with orange plot\n",
    "    sub2 = fig.add_subplot(2,3,2) \n",
    "\n",
    "    #third ax, top right\n",
    "    sub3 = fig.add_subplot(2,3,3) \n",
    "\n",
    "    # Create forth ax\n",
    "    sub4 = fig.add_subplot(2,2,(3,4)) \n",
    "\n",
    "    sns.histplot(data[data['fetal_health']==1][column] , ax=sub1, color = 'g')\n",
    "    sns.histplot(data[data['fetal_health']==2][column] , ax=sub2, color = 'r')\n",
    "    sns.histplot(data[data['fetal_health']==3][column] , ax=sub3, color = 'y')\n",
    "    \n",
    "    sub1.set_xlabel(xlabel + ' of Normal')\n",
    "    sub2.set_xlabel(xlabel + ' of Suspicious')\n",
    "    sub3.set_xlabel(xlabel + ' of Pathological')\n",
    "    sub4.set_xlabel(xlabel + ' of All')\n",
    "    \n",
    "    \n",
    "    sns.histplot(data[column] , ax=sub4, bins=bins)"
   ]
  },
  {
   "cell_type": "code",
   "execution_count": null,
   "id": "c62da133",
   "metadata": {
    "execution": {
     "iopub.execute_input": "2021-11-20T17:56:51.572313Z",
     "iopub.status.busy": "2021-11-20T17:56:51.571402Z",
     "iopub.status.idle": "2021-11-20T17:56:52.566942Z",
     "shell.execute_reply": "2021-11-20T17:56:52.567522Z",
     "shell.execute_reply.started": "2021-11-20T15:21:15.054008Z"
    },
    "papermill": {
     "duration": 1.059137,
     "end_time": "2021-11-20T17:56:52.567708",
     "exception": false,
     "start_time": "2021-11-20T17:56:51.508571",
     "status": "completed"
    },
    "tags": []
   },
   "outputs": [],
   "source": [
    "getall_visuals(df, 'accelerations', 'Accelerations', 20 )"
   ]
  },
  {
   "cell_type": "markdown",
   "id": "db554a4e",
   "metadata": {
    "papermill": {
     "duration": 0.06108,
     "end_time": "2021-11-20T17:56:52.691274",
     "exception": false,
     "start_time": "2021-11-20T17:56:52.630194",
     "status": "completed"
    },
    "tags": []
   },
   "source": [
    "#### Observation\n",
    "\n",
    "Most of the data were gathered aroun 0.  However, values above 0.005 is only on Normal cardigrams. "
   ]
  },
  {
   "cell_type": "code",
   "execution_count": null,
   "id": "b8e86b48",
   "metadata": {
    "execution": {
     "iopub.execute_input": "2021-11-20T17:56:52.816819Z",
     "iopub.status.busy": "2021-11-20T17:56:52.816217Z",
     "iopub.status.idle": "2021-11-20T17:56:53.842945Z",
     "shell.execute_reply": "2021-11-20T17:56:53.842315Z",
     "shell.execute_reply.started": "2021-11-20T15:21:16.123482Z"
    },
    "papermill": {
     "duration": 1.090764,
     "end_time": "2021-11-20T17:56:53.843086",
     "exception": false,
     "start_time": "2021-11-20T17:56:52.752322",
     "status": "completed"
    },
    "tags": []
   },
   "outputs": [],
   "source": [
    "getall_visuals(df, 'prolongued_decelerations', 'Prolonged Descelerations', 20 )"
   ]
  },
  {
   "cell_type": "markdown",
   "id": "ffe3d094",
   "metadata": {
    "papermill": {
     "duration": 0.062912,
     "end_time": "2021-11-20T17:56:53.968435",
     "exception": false,
     "start_time": "2021-11-20T17:56:53.905523",
     "status": "completed"
    },
    "tags": []
   },
   "source": [
    "#### Observation\n",
    "\n",
    "Again most of the data is at 0, however the amount of 0.001's and higher increasing in suspicious and pathologicals.\n",
    "\n"
   ]
  },
  {
   "cell_type": "code",
   "execution_count": null,
   "id": "1bde6cc2",
   "metadata": {
    "execution": {
     "iopub.execute_input": "2021-11-20T17:56:54.119090Z",
     "iopub.status.busy": "2021-11-20T17:56:54.117970Z",
     "iopub.status.idle": "2021-11-20T17:56:55.266824Z",
     "shell.execute_reply": "2021-11-20T17:56:55.267345Z",
     "shell.execute_reply.started": "2021-11-20T15:21:17.196512Z"
    },
    "papermill": {
     "duration": 1.233936,
     "end_time": "2021-11-20T17:56:55.267513",
     "exception": false,
     "start_time": "2021-11-20T17:56:54.033577",
     "status": "completed"
    },
    "tags": []
   },
   "outputs": [],
   "source": [
    "getall_visuals(df, 'abnormal_short_term_variability', 'Abnormal Short Term Variability \\n', 50)"
   ]
  },
  {
   "cell_type": "markdown",
   "id": "2f86c540",
   "metadata": {
    "papermill": {
     "duration": 0.06317,
     "end_time": "2021-11-20T17:56:55.395327",
     "exception": false,
     "start_time": "2021-11-20T17:56:55.332157",
     "status": "completed"
    },
    "tags": []
   },
   "source": [
    "#### Observation\n",
    "\n",
    "Normal values are gathered between 20-60; and the amount of variability of suspicious and pathologicals are gathered above 60's."
   ]
  },
  {
   "cell_type": "code",
   "execution_count": null,
   "id": "83486440",
   "metadata": {
    "execution": {
     "iopub.execute_input": "2021-11-20T17:56:55.533364Z",
     "iopub.status.busy": "2021-11-20T17:56:55.532559Z",
     "iopub.status.idle": "2021-11-20T17:56:56.749955Z",
     "shell.execute_reply": "2021-11-20T17:56:56.750464Z",
     "shell.execute_reply.started": "2021-11-20T15:21:18.389773Z"
    },
    "papermill": {
     "duration": 1.291459,
     "end_time": "2021-11-20T17:56:56.750632",
     "exception": false,
     "start_time": "2021-11-20T17:56:55.459173",
     "status": "completed"
    },
    "tags": []
   },
   "outputs": [],
   "source": [
    "getall_visuals(df,'percentage_of_time_with_abnormal_long_term_variability', 'Abnormal Long Term Variability \\n %', 50)"
   ]
  },
  {
   "cell_type": "markdown",
   "id": "aeda4c03",
   "metadata": {
    "papermill": {
     "duration": 0.065481,
     "end_time": "2021-11-20T17:56:56.882184",
     "exception": false,
     "start_time": "2021-11-20T17:56:56.816703",
     "status": "completed"
    },
    "tags": []
   },
   "source": [
    "#### Observation\n",
    "\n",
    "Most of the normals are gathered at 0. Suspicious babies' values are gathered betweeen 0 to 70, pathological babies gathered aboce 75 if not in 0. "
   ]
  },
  {
   "cell_type": "markdown",
   "id": "b0e0f596",
   "metadata": {
    "papermill": {
     "duration": 0.066151,
     "end_time": "2021-11-20T17:56:57.013755",
     "exception": false,
     "start_time": "2021-11-20T17:56:56.947604",
     "status": "completed"
    },
    "tags": []
   },
   "source": [
    "## A/B Testing\n",
    "\n",
    "We have one categorical feature which includes three classes. In healthcare, we would like to know whether if there is a difference between groups or not. If we found a significant difference, we would search for which groups caused the difference."
   ]
  },
  {
   "cell_type": "code",
   "execution_count": null,
   "id": "0d6d376d",
   "metadata": {
    "execution": {
     "iopub.execute_input": "2021-11-20T17:56:57.150002Z",
     "iopub.status.busy": "2021-11-20T17:56:57.149118Z",
     "iopub.status.idle": "2021-11-20T17:56:57.151722Z",
     "shell.execute_reply": "2021-11-20T17:56:57.151238Z",
     "shell.execute_reply.started": "2021-11-20T15:21:20.498809Z"
    },
    "papermill": {
     "duration": 0.072627,
     "end_time": "2021-11-20T17:56:57.151899",
     "exception": false,
     "start_time": "2021-11-20T17:56:57.079272",
     "status": "completed"
    },
    "tags": []
   },
   "outputs": [],
   "source": [
    "from scipy.stats import kruskal, mannwhitneyu"
   ]
  },
  {
   "cell_type": "code",
   "execution_count": null,
   "id": "98d68b76",
   "metadata": {
    "execution": {
     "iopub.execute_input": "2021-11-20T17:56:57.291671Z",
     "iopub.status.busy": "2021-11-20T17:56:57.291001Z",
     "iopub.status.idle": "2021-11-20T17:56:57.295300Z",
     "shell.execute_reply": "2021-11-20T17:56:57.294749Z",
     "shell.execute_reply.started": "2021-11-20T15:21:20.514391Z"
    },
    "papermill": {
     "duration": 0.077647,
     "end_time": "2021-11-20T17:56:57.295436",
     "exception": false,
     "start_time": "2021-11-20T17:56:57.217789",
     "status": "completed"
    },
    "tags": []
   },
   "outputs": [],
   "source": [
    "normal = df[df['fetal_health']==1]\n",
    "suspicious = df[df['fetal_health']==2]\n",
    "pathological = df[df['fetal_health']==3]"
   ]
  },
  {
   "cell_type": "code",
   "execution_count": null,
   "id": "2b60eb67",
   "metadata": {
    "execution": {
     "iopub.execute_input": "2021-11-20T17:56:57.433149Z",
     "iopub.status.busy": "2021-11-20T17:56:57.432423Z",
     "iopub.status.idle": "2021-11-20T17:56:57.634992Z",
     "shell.execute_reply": "2021-11-20T17:56:57.635621Z",
     "shell.execute_reply.started": "2021-11-20T15:21:20.528402Z"
    },
    "papermill": {
     "duration": 0.274718,
     "end_time": "2021-11-20T17:56:57.635791",
     "exception": false,
     "start_time": "2021-11-20T17:56:57.361073",
     "status": "completed"
    },
    "tags": []
   },
   "outputs": [],
   "source": [
    "for x in df.columns:\n",
    "    print(f\"p values comparing fetal health for {x} : {kruskal(normal[x],suspicious[x],pathological[x])[1]:.2f}\")"
   ]
  },
  {
   "cell_type": "markdown",
   "id": "ebb0a01f",
   "metadata": {
    "papermill": {
     "duration": 0.065632,
     "end_time": "2021-11-20T17:56:57.768023",
     "exception": false,
     "start_time": "2021-11-20T17:56:57.702391",
     "status": "completed"
    },
    "tags": []
   },
   "source": [
    "There are significant differences for each feature between 3 groups. Let's see which group caused the differences. I need to perform a post hoc analysis. For kruskall wallis test, dunn test can be used. I will use scikit_posthocs library for dunn test."
   ]
  },
  {
   "cell_type": "code",
   "execution_count": null,
   "id": "887d93ba",
   "metadata": {
    "execution": {
     "iopub.execute_input": "2021-11-20T17:56:57.905046Z",
     "iopub.status.busy": "2021-11-20T17:56:57.904318Z",
     "iopub.status.idle": "2021-11-20T17:57:20.494381Z",
     "shell.execute_reply": "2021-11-20T17:57:20.493675Z",
     "shell.execute_reply.started": "2021-11-20T15:21:20.586643Z"
    },
    "papermill": {
     "duration": 22.660663,
     "end_time": "2021-11-20T17:57:20.494529",
     "exception": false,
     "start_time": "2021-11-20T17:56:57.833866",
     "status": "completed"
    },
    "tags": []
   },
   "outputs": [],
   "source": [
    "!pip install scikit_posthocs"
   ]
  },
  {
   "cell_type": "code",
   "execution_count": null,
   "id": "f058ea75",
   "metadata": {
    "execution": {
     "iopub.execute_input": "2021-11-20T17:57:20.649535Z",
     "iopub.status.busy": "2021-11-20T17:57:20.648972Z",
     "iopub.status.idle": "2021-11-20T17:57:21.080498Z",
     "shell.execute_reply": "2021-11-20T17:57:21.080991Z",
     "shell.execute_reply.started": "2021-11-20T15:21:29.839403Z"
    },
    "papermill": {
     "duration": 0.512652,
     "end_time": "2021-11-20T17:57:21.081167",
     "exception": false,
     "start_time": "2021-11-20T17:57:20.568515",
     "status": "completed"
    },
    "tags": []
   },
   "outputs": [],
   "source": [
    "import scikit_posthocs as sp\n",
    "\n",
    "for col in df.columns:\n",
    "    print(col)\n",
    "    display(abs(sp.posthoc_dunn([normal[col], suspicious[col],pathological[col]], p_adjust = 'bonferroni')))\n",
    "    print('*'*50)"
   ]
  },
  {
   "cell_type": "markdown",
   "id": "154932d5",
   "metadata": {
    "papermill": {
     "duration": 0.092834,
     "end_time": "2021-11-20T17:57:21.267049",
     "exception": false,
     "start_time": "2021-11-20T17:57:21.174215",
     "status": "completed"
    },
    "tags": []
   },
   "source": [
    "As we can see the differences I found with Kruskall Wallis test are caused by all groups' median values except Severe Decelerations and Prolonged Decelerations.\n",
    "\n",
    "The difference in both groups are caused by Problematic fetuses (p<0.0017)"
   ]
  },
  {
   "cell_type": "markdown",
   "id": "b45b4d12",
   "metadata": {
    "papermill": {
     "duration": 0.097256,
     "end_time": "2021-11-20T17:57:21.457400",
     "exception": false,
     "start_time": "2021-11-20T17:57:21.360144",
     "status": "completed"
    },
    "tags": []
   },
   "source": [
    "# Machine Learning"
   ]
  },
  {
   "cell_type": "markdown",
   "id": "facc8c63",
   "metadata": {
    "papermill": {
     "duration": 0.092854,
     "end_time": "2021-11-20T17:57:21.645311",
     "exception": false,
     "start_time": "2021-11-20T17:57:21.552457",
     "status": "completed"
    },
    "tags": []
   },
   "source": [
    "## Scaling, Machine Learning Implementation and Prediction"
   ]
  },
  {
   "cell_type": "code",
   "execution_count": null,
   "id": "62a4bb82",
   "metadata": {
    "execution": {
     "iopub.execute_input": "2021-11-20T17:57:21.840947Z",
     "iopub.status.busy": "2021-11-20T17:57:21.839884Z",
     "iopub.status.idle": "2021-11-20T17:57:21.842252Z",
     "shell.execute_reply": "2021-11-20T17:57:21.842721Z",
     "shell.execute_reply.started": "2021-11-20T15:21:30.297911Z"
    },
    "papermill": {
     "duration": 0.105748,
     "end_time": "2021-11-20T17:57:21.842912",
     "exception": false,
     "start_time": "2021-11-20T17:57:21.737164",
     "status": "completed"
    },
    "tags": []
   },
   "outputs": [],
   "source": [
    "# Visualize distributions of features\n",
    "def bayesian_dist(column, data):\n",
    "    \"\"\"this function gets column name (str) and dataframe (str), \n",
    "    returns distribution plot of the column, skewness and kurtosis\"\"\"\n",
    "    sns.distplot(data[column])\n",
    "    plt.title(x)\n",
    "    plt.show()\n",
    "    plt.show()\n",
    "    print('skewness: ', stats.skew(data[column]))\n",
    "    print('kurtosis: ', stats.kurtosis(data[column]))\n",
    "    \n",
    "\n",
    "def normal_visual(column, df):\n",
    "    \"\"\"This function gets column and dataframe as str.\n",
    "    Return \n",
    "    Shapiro Wilk test and Kolmogorov-Smirnov test results,\n",
    "    distplot, skewness and kurtosis of the column\n",
    "    \"\"\"\n",
    "    bayesian_dist(column, df)\n",
    "    print('*'* 30)\n",
    "    print(column, 'Shapiro-Wilk test t score: ', \"{:.2f}\".format(stats.shapiro(df[x])[0]))\n",
    "    print(column, 'Shapiro-Wilk test p value: ', \"{:.2f}\".format(stats.shapiro(df[x])[1]))\n",
    "    print('*'*30)\n",
    "    print(column, 'Kolmogorov-Smirnov t score: ', \"{:.2f}\".format(stats.kstest(df[x],'norm', args=(df[x].mean(),\n",
    "                                                                                                   df[x].std()))[0]))\n",
    "    print(column, 'Kolmogorov-Smirnov t score: ', \"{:.2f}\".format(stats.kstest(df[x],'norm', args=(df[x].mean(),\n",
    "                                                                                                   df[x].std()))[1]))\n",
    "    "
   ]
  },
  {
   "cell_type": "code",
   "execution_count": null,
   "id": "cc1cf350",
   "metadata": {
    "execution": {
     "iopub.execute_input": "2021-11-20T17:57:22.063790Z",
     "iopub.status.busy": "2021-11-20T17:57:22.055372Z",
     "iopub.status.idle": "2021-11-20T17:57:29.599451Z",
     "shell.execute_reply": "2021-11-20T17:57:29.598796Z",
     "shell.execute_reply.started": "2021-11-20T15:21:30.311922Z"
    },
    "papermill": {
     "duration": 7.660111,
     "end_time": "2021-11-20T17:57:29.599591",
     "exception": false,
     "start_time": "2021-11-20T17:57:21.939480",
     "status": "completed"
    },
    "tags": []
   },
   "outputs": [],
   "source": [
    "for x in df.columns:\n",
    "    if x != 'fetal_health':\n",
    "        normal_visual(x, df)"
   ]
  },
  {
   "cell_type": "code",
   "execution_count": null,
   "id": "51e0165d",
   "metadata": {
    "execution": {
     "iopub.execute_input": "2021-11-20T17:57:29.847664Z",
     "iopub.status.busy": "2021-11-20T17:57:29.847030Z",
     "iopub.status.idle": "2021-11-20T17:57:29.850419Z",
     "shell.execute_reply": "2021-11-20T17:57:29.850933Z",
     "shell.execute_reply.started": "2021-11-20T15:21:37.934963Z"
    },
    "papermill": {
     "duration": 0.128154,
     "end_time": "2021-11-20T17:57:29.851097",
     "exception": false,
     "start_time": "2021-11-20T17:57:29.722943",
     "status": "completed"
    },
    "tags": []
   },
   "outputs": [],
   "source": [
    "from sklearn.preprocessing import StandardScaler\n",
    "ss = StandardScaler()"
   ]
  },
  {
   "cell_type": "code",
   "execution_count": null,
   "id": "03a114e3",
   "metadata": {
    "execution": {
     "iopub.execute_input": "2021-11-20T17:57:30.095037Z",
     "iopub.status.busy": "2021-11-20T17:57:30.094395Z",
     "iopub.status.idle": "2021-11-20T17:57:30.099010Z",
     "shell.execute_reply": "2021-11-20T17:57:30.099518Z",
     "shell.execute_reply.started": "2021-11-20T15:21:37.943099Z"
    },
    "papermill": {
     "duration": 0.128594,
     "end_time": "2021-11-20T17:57:30.099676",
     "exception": false,
     "start_time": "2021-11-20T17:57:29.971082",
     "status": "completed"
    },
    "tags": []
   },
   "outputs": [],
   "source": [
    "# To use optuna for hyperparameter tuning, I need to change target values as 0,1,2. To avoid any mistakes, I will do it in the cell below.\n",
    "df['fetal_health'].replace({1:0,2:1,3:2}, inplace = True)\n",
    "\n"
   ]
  },
  {
   "cell_type": "code",
   "execution_count": null,
   "id": "4b0ed14b",
   "metadata": {
    "execution": {
     "iopub.execute_input": "2021-11-20T17:57:30.343754Z",
     "iopub.status.busy": "2021-11-20T17:57:30.343133Z",
     "iopub.status.idle": "2021-11-20T17:57:30.351343Z",
     "shell.execute_reply": "2021-11-20T17:57:30.351975Z",
     "shell.execute_reply.started": "2021-11-20T15:21:37.957784Z"
    },
    "papermill": {
     "duration": 0.131296,
     "end_time": "2021-11-20T17:57:30.352143",
     "exception": false,
     "start_time": "2021-11-20T17:57:30.220847",
     "status": "completed"
    },
    "tags": []
   },
   "outputs": [],
   "source": [
    "# for test purposes, I'll seperate 10% of the data\n",
    "unseen_data = df.sample(n=210)\n",
    "remaining_data = df.drop(unseen_data.index)\n",
    "unseen_data.reset_index(inplace=True)\n",
    "remaining_data.reset_index(inplace=True)"
   ]
  },
  {
   "cell_type": "code",
   "execution_count": null,
   "id": "8fb197b0",
   "metadata": {
    "execution": {
     "iopub.execute_input": "2021-11-20T17:57:30.595886Z",
     "iopub.status.busy": "2021-11-20T17:57:30.595231Z",
     "iopub.status.idle": "2021-11-20T17:57:30.600512Z",
     "shell.execute_reply": "2021-11-20T17:57:30.601109Z",
     "shell.execute_reply.started": "2021-11-20T15:21:37.976213Z"
    },
    "papermill": {
     "duration": 0.128774,
     "end_time": "2021-11-20T17:57:30.601277",
     "exception": false,
     "start_time": "2021-11-20T17:57:30.472503",
     "status": "completed"
    },
    "tags": []
   },
   "outputs": [],
   "source": [
    "remaining_data.drop('index',axis=1, inplace=True)\n",
    "unseen_data.drop('index',axis=1, inplace=True)"
   ]
  },
  {
   "cell_type": "code",
   "execution_count": null,
   "id": "bc096e80",
   "metadata": {
    "execution": {
     "iopub.execute_input": "2021-11-20T17:57:30.851765Z",
     "iopub.status.busy": "2021-11-20T17:57:30.850996Z",
     "iopub.status.idle": "2021-11-20T17:57:30.854106Z",
     "shell.execute_reply": "2021-11-20T17:57:30.854594Z",
     "shell.execute_reply.started": "2021-11-20T15:21:37.989827Z"
    },
    "papermill": {
     "duration": 0.133099,
     "end_time": "2021-11-20T17:57:30.854758",
     "exception": false,
     "start_time": "2021-11-20T17:57:30.721659",
     "status": "completed"
    },
    "tags": []
   },
   "outputs": [],
   "source": [
    "unseen_data['fetal_health'].value_counts()"
   ]
  },
  {
   "cell_type": "code",
   "execution_count": null,
   "id": "4468a03d",
   "metadata": {
    "execution": {
     "iopub.execute_input": "2021-11-20T17:57:31.100467Z",
     "iopub.status.busy": "2021-11-20T17:57:31.099536Z",
     "iopub.status.idle": "2021-11-20T17:57:31.141732Z",
     "shell.execute_reply": "2021-11-20T17:57:31.142252Z",
     "shell.execute_reply.started": "2021-11-20T15:21:38.008719Z"
    },
    "papermill": {
     "duration": 0.167112,
     "end_time": "2021-11-20T17:57:31.142418",
     "exception": false,
     "start_time": "2021-11-20T17:57:30.975306",
     "status": "completed"
    },
    "tags": []
   },
   "outputs": [],
   "source": [
    "remaining_data"
   ]
  },
  {
   "cell_type": "code",
   "execution_count": null,
   "id": "ae90666d",
   "metadata": {
    "execution": {
     "iopub.execute_input": "2021-11-20T17:57:31.388407Z",
     "iopub.status.busy": "2021-11-20T17:57:31.387755Z",
     "iopub.status.idle": "2021-11-20T17:57:31.397907Z",
     "shell.execute_reply": "2021-11-20T17:57:31.398401Z",
     "shell.execute_reply.started": "2021-11-20T15:21:38.067057Z"
    },
    "papermill": {
     "duration": 0.135111,
     "end_time": "2021-11-20T17:57:31.398577",
     "exception": false,
     "start_time": "2021-11-20T17:57:31.263466",
     "status": "completed"
    },
    "tags": []
   },
   "outputs": [],
   "source": [
    "scaled_data = remaining_data.copy()\n",
    "scaled_data.drop('fetal_health',axis=1,inplace=True)\n",
    "\n",
    "scaled_data = ss.fit_transform(scaled_data)"
   ]
  },
  {
   "cell_type": "code",
   "execution_count": null,
   "id": "17e43908",
   "metadata": {
    "execution": {
     "iopub.execute_input": "2021-11-20T17:57:31.648748Z",
     "iopub.status.busy": "2021-11-20T17:57:31.648125Z",
     "iopub.status.idle": "2021-11-20T17:57:31.677029Z",
     "shell.execute_reply": "2021-11-20T17:57:31.676491Z",
     "shell.execute_reply.started": "2021-11-20T15:21:38.083555Z"
    },
    "papermill": {
     "duration": 0.155795,
     "end_time": "2021-11-20T17:57:31.677192",
     "exception": false,
     "start_time": "2021-11-20T17:57:31.521397",
     "status": "completed"
    },
    "tags": []
   },
   "outputs": [],
   "source": [
    "scaled_data = pd.DataFrame(scaled_data , columns = df.drop('fetal_health',axis=1).columns)\n",
    "scaled_data"
   ]
  },
  {
   "cell_type": "code",
   "execution_count": null,
   "id": "7c149bda",
   "metadata": {
    "execution": {
     "iopub.execute_input": "2021-11-20T17:57:31.929660Z",
     "iopub.status.busy": "2021-11-20T17:57:31.928937Z",
     "iopub.status.idle": "2021-11-20T17:57:31.939315Z",
     "shell.execute_reply": "2021-11-20T17:57:31.939918Z",
     "shell.execute_reply.started": "2021-11-20T15:21:38.638468Z"
    },
    "papermill": {
     "duration": 0.140927,
     "end_time": "2021-11-20T17:57:31.940076",
     "exception": false,
     "start_time": "2021-11-20T17:57:31.799149",
     "status": "completed"
    },
    "tags": []
   },
   "outputs": [],
   "source": [
    "from sklearn.model_selection import train_test_split\n",
    "target = remaining_data['fetal_health']\n",
    "predictors = scaled_data.copy()\n",
    "x_train, x_test, y_train, y_test = train_test_split(predictors,target, train_size=0.7,\n",
    "                                                    random_state= 42, stratify = target.values)\n",
    "\n",
    "\n",
    "display(x_train.shape)\n",
    "display(y_train.shape)\n",
    "display(x_test.shape)\n",
    "display(y_test.shape)"
   ]
  },
  {
   "cell_type": "code",
   "execution_count": null,
   "id": "bb30e35e",
   "metadata": {
    "execution": {
     "iopub.execute_input": "2021-11-20T17:57:32.195677Z",
     "iopub.status.busy": "2021-11-20T17:57:32.194668Z",
     "iopub.status.idle": "2021-11-20T17:57:35.067214Z",
     "shell.execute_reply": "2021-11-20T17:57:35.067816Z",
     "shell.execute_reply.started": "2021-11-20T15:21:38.658296Z"
    },
    "papermill": {
     "duration": 3.003232,
     "end_time": "2021-11-20T17:57:35.068011",
     "exception": false,
     "start_time": "2021-11-20T17:57:32.064779",
     "status": "completed"
    },
    "tags": []
   },
   "outputs": [],
   "source": [
    "model_accuracy = pd.DataFrame(columns=['Model','Accuracy'])\n",
    "models = {\"LR\": LogisticRegression(),\n",
    "          \"KNN\" : KNeighborsClassifier(),\n",
    "          \"DT\" : DecisionTreeClassifier(),\n",
    "          'RFC' : RandomForestClassifier(),\n",
    "          'ABC' : AdaBoostClassifier(),\n",
    "          'GBC' : GradientBoostingClassifier(),\n",
    "          'DTC' : DecisionTreeClassifier(),\n",
    "          'XGB' : XGBClassifier(early_stopping_rounds = 300)\n",
    "          }\n",
    "\n",
    "for test, clf in models.items():\n",
    "    clf.fit(x_train, y_train)\n",
    "    y_pred = clf.predict(x_test)\n",
    "    acc = accuracy_score(y_test,y_pred)\n",
    "    train_pred = clf.predict(x_train)\n",
    "    train_acc = accuracy_score(y_train, train_pred)\n",
    "    print( test + ' scores')\n",
    "    print(acc)\n",
    "    print(classification_report(y_test,y_pred))\n",
    "    print(confusion_matrix(y_test,y_pred))\n",
    "    print('*' * 100)\n",
    "    model_accuracy = model_accuracy.append({'Model': test, 'Accuracy': acc, 'Train_acc': train_acc}, ignore_index=True)"
   ]
  },
  {
   "cell_type": "code",
   "execution_count": null,
   "id": "7301a689",
   "metadata": {
    "execution": {
     "iopub.execute_input": "2021-11-20T17:57:35.327586Z",
     "iopub.status.busy": "2021-11-20T17:57:35.326907Z",
     "iopub.status.idle": "2021-11-20T17:57:35.336817Z",
     "shell.execute_reply": "2021-11-20T17:57:35.337338Z",
     "shell.execute_reply.started": "2021-11-20T15:21:41.584074Z"
    },
    "papermill": {
     "duration": 0.142523,
     "end_time": "2021-11-20T17:57:35.337507",
     "exception": false,
     "start_time": "2021-11-20T17:57:35.194984",
     "status": "completed"
    },
    "tags": []
   },
   "outputs": [],
   "source": [
    "model_accuracy.sort_values(ascending=False, by = 'Accuracy')"
   ]
  },
  {
   "cell_type": "code",
   "execution_count": null,
   "id": "c609228c",
   "metadata": {
    "execution": {
     "iopub.execute_input": "2021-11-20T17:57:35.593349Z",
     "iopub.status.busy": "2021-11-20T17:57:35.592661Z",
     "iopub.status.idle": "2021-11-20T17:57:35.598674Z",
     "shell.execute_reply": "2021-11-20T17:57:35.599177Z",
     "shell.execute_reply.started": "2021-11-20T15:21:41.600194Z"
    },
    "papermill": {
     "duration": 0.135872,
     "end_time": "2021-11-20T17:57:35.599349",
     "exception": false,
     "start_time": "2021-11-20T17:57:35.463477",
     "status": "completed"
    },
    "tags": []
   },
   "outputs": [],
   "source": [
    "target_unseen= unseen_data['fetal_health']\n",
    "features_unseen = unseen_data.drop('fetal_health',axis=1)\n",
    "scaled_features = ss.transform(features_unseen)"
   ]
  },
  {
   "cell_type": "code",
   "execution_count": null,
   "id": "cc91c1b4",
   "metadata": {
    "execution": {
     "iopub.execute_input": "2021-11-20T17:57:35.856728Z",
     "iopub.status.busy": "2021-11-20T17:57:35.856113Z",
     "iopub.status.idle": "2021-11-20T17:57:36.432527Z",
     "shell.execute_reply": "2021-11-20T17:57:36.433170Z",
     "shell.execute_reply.started": "2021-11-20T15:21:41.615114Z"
    },
    "papermill": {
     "duration": 0.70647,
     "end_time": "2021-11-20T17:57:36.433399",
     "exception": false,
     "start_time": "2021-11-20T17:57:35.726929",
     "status": "completed"
    },
    "tags": []
   },
   "outputs": [],
   "source": [
    "XGBC = XGBClassifier(early_stopping_rounds=300)\n",
    "XGBC.fit(x_train, y_train)\n",
    "y_pred = XGBC.predict(x_test)"
   ]
  },
  {
   "cell_type": "code",
   "execution_count": null,
   "id": "4164f632",
   "metadata": {
    "execution": {
     "iopub.execute_input": "2021-11-20T17:57:36.695155Z",
     "iopub.status.busy": "2021-11-20T17:57:36.694445Z",
     "iopub.status.idle": "2021-11-20T17:57:36.700259Z",
     "shell.execute_reply": "2021-11-20T17:57:36.699737Z",
     "shell.execute_reply.started": "2021-11-20T15:21:42.207709Z"
    },
    "papermill": {
     "duration": 0.137231,
     "end_time": "2021-11-20T17:57:36.700403",
     "exception": false,
     "start_time": "2021-11-20T17:57:36.563172",
     "status": "completed"
    },
    "tags": []
   },
   "outputs": [],
   "source": [
    "confusion_matrix(y_test,y_pred)"
   ]
  },
  {
   "cell_type": "code",
   "execution_count": null,
   "id": "4ce95408",
   "metadata": {
    "execution": {
     "iopub.execute_input": "2021-11-20T17:57:36.983051Z",
     "iopub.status.busy": "2021-11-20T17:57:36.979051Z",
     "iopub.status.idle": "2021-11-20T17:57:37.287699Z",
     "shell.execute_reply": "2021-11-20T17:57:37.287160Z",
     "shell.execute_reply.started": "2021-11-20T15:26:02.16882Z"
    },
    "papermill": {
     "duration": 0.46036,
     "end_time": "2021-11-20T17:57:37.287895",
     "exception": false,
     "start_time": "2021-11-20T17:57:36.827535",
     "status": "completed"
    },
    "tags": []
   },
   "outputs": [],
   "source": [
    "plt.subplots(figsize=(12,8))\n",
    "cf_matrix = confusion_matrix(y_test,y_pred)\n",
    "sns.heatmap(cf_matrix/np.sum(cf_matrix), cmap=cmap,annot = True, annot_kws = {'size':15})"
   ]
  },
  {
   "cell_type": "code",
   "execution_count": null,
   "id": "4e950889",
   "metadata": {
    "execution": {
     "iopub.execute_input": "2021-11-20T17:57:37.555319Z",
     "iopub.status.busy": "2021-11-20T17:57:37.552131Z",
     "iopub.status.idle": "2021-11-20T17:57:37.565160Z",
     "shell.execute_reply": "2021-11-20T17:57:37.564584Z",
     "shell.execute_reply.started": "2021-11-20T15:26:05.93303Z"
    },
    "papermill": {
     "duration": 0.146802,
     "end_time": "2021-11-20T17:57:37.565311",
     "exception": false,
     "start_time": "2021-11-20T17:57:37.418509",
     "status": "completed"
    },
    "tags": []
   },
   "outputs": [],
   "source": [
    "confusion_matrix(XGBC.predict(scaled_features), target_unseen)"
   ]
  },
  {
   "cell_type": "code",
   "execution_count": null,
   "id": "96c4f517",
   "metadata": {
    "execution": {
     "iopub.execute_input": "2021-11-20T17:57:37.848528Z",
     "iopub.status.busy": "2021-11-20T17:57:37.846264Z",
     "iopub.status.idle": "2021-11-20T17:57:38.160177Z",
     "shell.execute_reply": "2021-11-20T17:57:38.160646Z",
     "shell.execute_reply.started": "2021-11-20T15:26:06.268816Z"
    },
    "papermill": {
     "duration": 0.464652,
     "end_time": "2021-11-20T17:57:38.160821",
     "exception": false,
     "start_time": "2021-11-20T17:57:37.696169",
     "status": "completed"
    },
    "tags": []
   },
   "outputs": [],
   "source": [
    "plt.subplots(figsize=(12,8))\n",
    "cf_matrix = confusion_matrix(XGBC.predict(scaled_features), target_unseen)\n",
    "sns.heatmap(cf_matrix/np.sum(cf_matrix), cmap=cmap,annot = True, annot_kws = {'size':15})"
   ]
  },
  {
   "cell_type": "markdown",
   "id": "ed7eafb3",
   "metadata": {
    "papermill": {
     "duration": 0.134257,
     "end_time": "2021-11-20T17:57:38.425688",
     "exception": false,
     "start_time": "2021-11-20T17:57:38.291431",
     "status": "completed"
    },
    "tags": []
   },
   "source": [
    "### Hyperparameter Optimization with Optuna \n",
    "\n",
    "XGBoostClassifier gets the best results here. I will use optuna to tune parameters. But first I need to change my target labels as 0 ,1 ,2 to avoid num_classes error in XGB. "
   ]
  },
  {
   "cell_type": "code",
   "execution_count": null,
   "id": "7f2789fa",
   "metadata": {
    "execution": {
     "iopub.execute_input": "2021-11-20T17:57:38.707827Z",
     "iopub.status.busy": "2021-11-20T17:57:38.707164Z",
     "iopub.status.idle": "2021-11-20T17:57:39.181499Z",
     "shell.execute_reply": "2021-11-20T17:57:39.180808Z",
     "shell.execute_reply.started": "2021-11-20T15:26:08.614841Z"
    },
    "papermill": {
     "duration": 0.607289,
     "end_time": "2021-11-20T17:57:39.181642",
     "exception": false,
     "start_time": "2021-11-20T17:57:38.574353",
     "status": "completed"
    },
    "tags": []
   },
   "outputs": [],
   "source": [
    "import optuna\n",
    "xgbc = XGBClassifier()\n",
    "def objective(trial):\n",
    "    train_x, test_x, train_y, test_y = x_train, x_test, y_train, y_test\n",
    "    dtrain = xgb.DMatrix(train_x, label=train_y)\n",
    "    dtest = xgb.DMatrix(test_x, label=test_y)\n",
    "\n",
    "    list_bins = [25, 50, 75, 100, 125, 150, 175, 200, 225, 250]\n",
    "    param = {\n",
    "        'verbosity' : 0,\n",
    "        'eta' : trial.suggest_uniform('eta', 0.1, 0.8),\n",
    "        'max_depth' : trial.suggest_int('max_depth', 3, 20),\n",
    "        'colsample_bytree' : trial.suggest_discrete_uniform('colsample_bytree',0.5,1.0,0.05),\n",
    "        \"booster\": trial.suggest_categorical(\"booster\", [\"gbtree\", \"gblinear\", \"dart\"]),\n",
    "        \"lambda\": trial.suggest_loguniform(\"lambda\", 1e-8, 1.0),\n",
    "        \"alpha\": trial.suggest_loguniform(\"alpha\", 1e-8, 1.0),\n",
    "        'subsample' : trial.suggest_discrete_uniform('subsample', 0.6, 0.9, 0.1),\n",
    "        'max_bin' : trial.suggest_categorical('max_bin', list_bins),\n",
    "        'objective' : 'multi:softmax',\n",
    "        'num_class' : 3,\n",
    "         \"eval_metric\": \"mlogloss\"\n",
    "    }\n",
    "         \n",
    "\n",
    "    # Add a callback for pruning.\n",
    "    pruning_callback = optuna.integration.XGBoostPruningCallback(trial, \"validation-mlogloss\")\n",
    "    bst = xgb.train(param, dtrain, early_stopping_rounds = 300, evals=[(dtest, \"validation\")], callbacks=[pruning_callback])\n",
    "    preds = bst.predict(dtest)\n",
    "    pred_labels = np.rint(preds)\n",
    "    accuracy = accuracy_score(test_y, pred_labels)\n",
    "    return accuracy"
   ]
  },
  {
   "cell_type": "code",
   "execution_count": null,
   "id": "f9c563c3",
   "metadata": {
    "execution": {
     "iopub.execute_input": "2021-11-20T17:57:39.446918Z",
     "iopub.status.busy": "2021-11-20T17:57:39.444319Z",
     "iopub.status.idle": "2021-11-20T17:57:39.752436Z",
     "shell.execute_reply": "2021-11-20T17:57:39.753827Z",
     "shell.execute_reply.started": "2021-11-20T15:26:09.008901Z"
    },
    "papermill": {
     "duration": 0.442561,
     "end_time": "2021-11-20T17:57:39.754041",
     "exception": false,
     "start_time": "2021-11-20T17:57:39.311480",
     "status": "completed"
    },
    "tags": []
   },
   "outputs": [],
   "source": [
    "study = optuna.create_study()\n",
    "study.optimize(objective, n_trials=2)"
   ]
  },
  {
   "cell_type": "code",
   "execution_count": null,
   "id": "9338ba3b",
   "metadata": {
    "execution": {
     "iopub.execute_input": "2021-11-20T17:57:40.042410Z",
     "iopub.status.busy": "2021-11-20T17:57:40.041444Z",
     "iopub.status.idle": "2021-11-20T17:57:40.044580Z",
     "shell.execute_reply": "2021-11-20T17:57:40.045091Z",
     "shell.execute_reply.started": "2021-11-20T15:26:09.364334Z"
    },
    "papermill": {
     "duration": 0.150157,
     "end_time": "2021-11-20T17:57:40.045267",
     "exception": false,
     "start_time": "2021-11-20T17:57:39.895110",
     "status": "completed"
    },
    "tags": []
   },
   "outputs": [],
   "source": [
    "study.best_params"
   ]
  },
  {
   "cell_type": "code",
   "execution_count": null,
   "id": "6f8edc21",
   "metadata": {
    "execution": {
     "iopub.execute_input": "2021-11-20T17:57:40.331504Z",
     "iopub.status.busy": "2021-11-20T17:57:40.330376Z",
     "iopub.status.idle": "2021-11-20T17:57:40.332338Z",
     "shell.execute_reply": "2021-11-20T17:57:40.332865Z",
     "shell.execute_reply.started": "2021-11-20T15:26:09.608993Z"
    },
    "papermill": {
     "duration": 0.147378,
     "end_time": "2021-11-20T17:57:40.333033",
     "exception": false,
     "start_time": "2021-11-20T17:57:40.185655",
     "status": "completed"
    },
    "tags": []
   },
   "outputs": [],
   "source": [
    "# These parameters always changes, however I tried various option. Each of them overfit and misclassified unseen data. So I leave this one as it is. \n",
    "XGBC_new = XGBClassifier(eta= 0.345,\n",
    "                    max_depth = 9,\n",
    "                    colsample_bytree = 0.7,\n",
    "                    booster = 'gblinear',\n",
    "                    reg_lambda = 6.280816614235506e-06,\n",
    "                    reg_alpha = 4.725045071821984e-08,\n",
    "                    subsamle = 0.6,\n",
    "                    max_bin = 250)"
   ]
  },
  {
   "cell_type": "code",
   "execution_count": null,
   "id": "c5daf237",
   "metadata": {
    "execution": {
     "iopub.execute_input": "2021-11-20T17:57:40.622760Z",
     "iopub.status.busy": "2021-11-20T17:57:40.622120Z",
     "iopub.status.idle": "2021-11-20T17:57:40.625394Z",
     "shell.execute_reply": "2021-11-20T17:57:40.625999Z",
     "shell.execute_reply.started": "2021-11-20T15:26:09.873856Z"
    },
    "papermill": {
     "duration": 0.146565,
     "end_time": "2021-11-20T17:57:40.626173",
     "exception": false,
     "start_time": "2021-11-20T17:57:40.479608",
     "status": "completed"
    },
    "tags": []
   },
   "outputs": [],
   "source": [
    "scaled_features = pd.DataFrame(scaled_features, columns = x_train.columns)"
   ]
  },
  {
   "cell_type": "code",
   "execution_count": null,
   "id": "074fc368",
   "metadata": {
    "execution": {
     "iopub.execute_input": "2021-11-20T17:57:40.909604Z",
     "iopub.status.busy": "2021-11-20T17:57:40.908932Z",
     "iopub.status.idle": "2021-11-20T17:57:41.996393Z",
     "shell.execute_reply": "2021-11-20T17:57:41.995765Z",
     "shell.execute_reply.started": "2021-11-20T15:26:10.113459Z"
    },
    "papermill": {
     "duration": 1.229532,
     "end_time": "2021-11-20T17:57:41.996534",
     "exception": false,
     "start_time": "2021-11-20T17:57:40.767002",
     "status": "completed"
    },
    "tags": []
   },
   "outputs": [],
   "source": [
    "XGBC_new.fit(x_train,y_train)"
   ]
  },
  {
   "cell_type": "code",
   "execution_count": null,
   "id": "f7ff8d57",
   "metadata": {
    "execution": {
     "iopub.execute_input": "2021-11-20T17:57:42.288280Z",
     "iopub.status.busy": "2021-11-20T17:57:42.287119Z",
     "iopub.status.idle": "2021-11-20T17:57:42.317337Z",
     "shell.execute_reply": "2021-11-20T17:57:42.317853Z",
     "shell.execute_reply.started": "2021-11-20T15:26:10.418138Z"
    },
    "papermill": {
     "duration": 0.179789,
     "end_time": "2021-11-20T17:57:42.318024",
     "exception": false,
     "start_time": "2021-11-20T17:57:42.138235",
     "status": "completed"
    },
    "tags": []
   },
   "outputs": [],
   "source": [
    "# X_test prediction\n",
    "y_pred = XGBC_new.predict(x_test)\n",
    "confusion_matrix(y_pred, y_test)"
   ]
  },
  {
   "cell_type": "code",
   "execution_count": null,
   "id": "75114c11",
   "metadata": {
    "execution": {
     "iopub.execute_input": "2021-11-20T17:57:42.611564Z",
     "iopub.status.busy": "2021-11-20T17:57:42.610886Z",
     "iopub.status.idle": "2021-11-20T17:57:42.634664Z",
     "shell.execute_reply": "2021-11-20T17:57:42.635399Z",
     "shell.execute_reply.started": "2021-11-20T15:26:10.613483Z"
    },
    "papermill": {
     "duration": 0.172941,
     "end_time": "2021-11-20T17:57:42.635662",
     "exception": false,
     "start_time": "2021-11-20T17:57:42.462721",
     "status": "completed"
    },
    "tags": []
   },
   "outputs": [],
   "source": [
    "y_unseen = XGBC_new.predict(scaled_features)\n",
    "confusion_matrix(y_unseen, target_unseen)"
   ]
  },
  {
   "cell_type": "code",
   "execution_count": null,
   "id": "ea49183c",
   "metadata": {
    "execution": {
     "iopub.execute_input": "2021-11-20T17:57:42.943024Z",
     "iopub.status.busy": "2021-11-20T17:57:42.941763Z",
     "iopub.status.idle": "2021-11-20T17:57:42.949627Z",
     "shell.execute_reply": "2021-11-20T17:57:42.950254Z",
     "shell.execute_reply.started": "2021-11-20T15:26:10.858155Z"
    },
    "papermill": {
     "duration": 0.163943,
     "end_time": "2021-11-20T17:57:42.950415",
     "exception": false,
     "start_time": "2021-11-20T17:57:42.786472",
     "status": "completed"
    },
    "tags": []
   },
   "outputs": [],
   "source": [
    "print(classification_report(y_unseen, target_unseen))"
   ]
  },
  {
   "cell_type": "code",
   "execution_count": null,
   "id": "1fbf74f0",
   "metadata": {
    "execution": {
     "iopub.execute_input": "2021-11-20T17:57:43.257177Z",
     "iopub.status.busy": "2021-11-20T17:57:43.256168Z",
     "iopub.status.idle": "2021-11-20T17:57:43.610690Z",
     "shell.execute_reply": "2021-11-20T17:57:43.611182Z",
     "shell.execute_reply.started": "2021-11-20T15:26:11.128607Z"
    },
    "papermill": {
     "duration": 0.509427,
     "end_time": "2021-11-20T17:57:43.611373",
     "exception": false,
     "start_time": "2021-11-20T17:57:43.101946",
     "status": "completed"
    },
    "tags": []
   },
   "outputs": [],
   "source": [
    "plt.subplots(figsize=(12,8))\n",
    "cf_matrix = confusion_matrix(target_unseen, y_unseen)\n",
    "sns.heatmap(cf_matrix/np.sum(cf_matrix), cmap=cmap,annot = True, annot_kws = {'size':15})"
   ]
  }
 ],
 "metadata": {
  "kernelspec": {
   "display_name": "Python 3 (ipykernel)",
   "language": "python",
   "name": "python3"
  },
  "language_info": {
   "codemirror_mode": {
    "name": "ipython",
    "version": 3
   },
   "file_extension": ".py",
   "mimetype": "text/x-python",
   "name": "python",
   "nbconvert_exporter": "python",
   "pygments_lexer": "ipython3",
   "version": "3.9.12"
  },
  "papermill": {
   "default_parameters": {},
   "duration": 71.299234,
   "end_time": "2021-11-20T17:57:45.257704",
   "environment_variables": {},
   "exception": null,
   "input_path": "__notebook__.ipynb",
   "output_path": "__notebook__.ipynb",
   "parameters": {},
   "start_time": "2021-11-20T17:56:33.958470",
   "version": "2.3.3"
  }
 },
 "nbformat": 4,
 "nbformat_minor": 5
}
